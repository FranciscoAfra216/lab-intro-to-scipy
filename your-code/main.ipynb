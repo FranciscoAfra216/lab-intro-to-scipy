{
 "cells": [
  {
   "cell_type": "markdown",
   "metadata": {},
   "source": [
    "# Before your start:\n",
    "- Read the README.md file\n",
    "- Comment as much as you can and use the resources (README.md file)\n",
    "- Happy learning!"
   ]
  },
  {
   "cell_type": "code",
   "execution_count": 1,
   "metadata": {},
   "outputs": [],
   "source": [
    "#import numpy and pandas\n",
    "import numpy as np\n",
    "import pandas as pd\n",
    "from scipy.stats import mode"
   ]
  },
  {
   "cell_type": "markdown",
   "metadata": {},
   "source": [
    "# Challenge 1 - The `stats` Submodule\n",
    "\n",
    "This submodule contains statistical functions for conducting hypothesis tests, producing various distributions and other useful tools. Let's examine this submodule using the KickStarter dataset. Load the data using the `ks-projects-201801.csv` file"
   ]
  },
  {
   "cell_type": "code",
   "execution_count": 2,
   "metadata": {},
   "outputs": [],
   "source": [
    "# Your code here:\n",
    "kickstarter = pd.read_csv('../ks-projects-201801.csv')\n"
   ]
  },
  {
   "cell_type": "markdown",
   "metadata": {},
   "source": [
    "Now print the `head` function to examine the dataset."
   ]
  },
  {
   "cell_type": "code",
   "execution_count": 3,
   "metadata": {},
   "outputs": [
    {
     "data": {
      "text/html": [
       "<div>\n",
       "<style scoped>\n",
       "    .dataframe tbody tr th:only-of-type {\n",
       "        vertical-align: middle;\n",
       "    }\n",
       "\n",
       "    .dataframe tbody tr th {\n",
       "        vertical-align: top;\n",
       "    }\n",
       "\n",
       "    .dataframe thead th {\n",
       "        text-align: right;\n",
       "    }\n",
       "</style>\n",
       "<table border=\"1\" class=\"dataframe\">\n",
       "  <thead>\n",
       "    <tr style=\"text-align: right;\">\n",
       "      <th></th>\n",
       "      <th>ID</th>\n",
       "      <th>goal</th>\n",
       "      <th>pledged</th>\n",
       "      <th>backers</th>\n",
       "      <th>usd pledged</th>\n",
       "      <th>usd_pledged_real</th>\n",
       "      <th>usd_goal_real</th>\n",
       "    </tr>\n",
       "  </thead>\n",
       "  <tbody>\n",
       "    <tr>\n",
       "      <th>count</th>\n",
       "      <td>3.786610e+05</td>\n",
       "      <td>3.786610e+05</td>\n",
       "      <td>3.786610e+05</td>\n",
       "      <td>378661.000000</td>\n",
       "      <td>3.748640e+05</td>\n",
       "      <td>3.786610e+05</td>\n",
       "      <td>3.786610e+05</td>\n",
       "    </tr>\n",
       "    <tr>\n",
       "      <th>mean</th>\n",
       "      <td>1.074731e+09</td>\n",
       "      <td>4.908079e+04</td>\n",
       "      <td>9.682979e+03</td>\n",
       "      <td>105.617476</td>\n",
       "      <td>7.036729e+03</td>\n",
       "      <td>9.058924e+03</td>\n",
       "      <td>4.545440e+04</td>\n",
       "    </tr>\n",
       "    <tr>\n",
       "      <th>std</th>\n",
       "      <td>6.190862e+08</td>\n",
       "      <td>1.183391e+06</td>\n",
       "      <td>9.563601e+04</td>\n",
       "      <td>907.185035</td>\n",
       "      <td>7.863975e+04</td>\n",
       "      <td>9.097334e+04</td>\n",
       "      <td>1.152950e+06</td>\n",
       "    </tr>\n",
       "    <tr>\n",
       "      <th>min</th>\n",
       "      <td>5.971000e+03</td>\n",
       "      <td>1.000000e-02</td>\n",
       "      <td>0.000000e+00</td>\n",
       "      <td>0.000000</td>\n",
       "      <td>0.000000e+00</td>\n",
       "      <td>0.000000e+00</td>\n",
       "      <td>1.000000e-02</td>\n",
       "    </tr>\n",
       "    <tr>\n",
       "      <th>25%</th>\n",
       "      <td>5.382635e+08</td>\n",
       "      <td>2.000000e+03</td>\n",
       "      <td>3.000000e+01</td>\n",
       "      <td>2.000000</td>\n",
       "      <td>1.698000e+01</td>\n",
       "      <td>3.100000e+01</td>\n",
       "      <td>2.000000e+03</td>\n",
       "    </tr>\n",
       "    <tr>\n",
       "      <th>50%</th>\n",
       "      <td>1.075276e+09</td>\n",
       "      <td>5.200000e+03</td>\n",
       "      <td>6.200000e+02</td>\n",
       "      <td>12.000000</td>\n",
       "      <td>3.947200e+02</td>\n",
       "      <td>6.243300e+02</td>\n",
       "      <td>5.500000e+03</td>\n",
       "    </tr>\n",
       "    <tr>\n",
       "      <th>75%</th>\n",
       "      <td>1.610149e+09</td>\n",
       "      <td>1.600000e+04</td>\n",
       "      <td>4.076000e+03</td>\n",
       "      <td>56.000000</td>\n",
       "      <td>3.034090e+03</td>\n",
       "      <td>4.050000e+03</td>\n",
       "      <td>1.550000e+04</td>\n",
       "    </tr>\n",
       "    <tr>\n",
       "      <th>max</th>\n",
       "      <td>2.147476e+09</td>\n",
       "      <td>1.000000e+08</td>\n",
       "      <td>2.033899e+07</td>\n",
       "      <td>219382.000000</td>\n",
       "      <td>2.033899e+07</td>\n",
       "      <td>2.033899e+07</td>\n",
       "      <td>1.663614e+08</td>\n",
       "    </tr>\n",
       "  </tbody>\n",
       "</table>\n",
       "</div>"
      ],
      "text/plain": [
       "                 ID          goal       pledged        backers   usd pledged  \\\n",
       "count  3.786610e+05  3.786610e+05  3.786610e+05  378661.000000  3.748640e+05   \n",
       "mean   1.074731e+09  4.908079e+04  9.682979e+03     105.617476  7.036729e+03   \n",
       "std    6.190862e+08  1.183391e+06  9.563601e+04     907.185035  7.863975e+04   \n",
       "min    5.971000e+03  1.000000e-02  0.000000e+00       0.000000  0.000000e+00   \n",
       "25%    5.382635e+08  2.000000e+03  3.000000e+01       2.000000  1.698000e+01   \n",
       "50%    1.075276e+09  5.200000e+03  6.200000e+02      12.000000  3.947200e+02   \n",
       "75%    1.610149e+09  1.600000e+04  4.076000e+03      56.000000  3.034090e+03   \n",
       "max    2.147476e+09  1.000000e+08  2.033899e+07  219382.000000  2.033899e+07   \n",
       "\n",
       "       usd_pledged_real  usd_goal_real  \n",
       "count      3.786610e+05   3.786610e+05  \n",
       "mean       9.058924e+03   4.545440e+04  \n",
       "std        9.097334e+04   1.152950e+06  \n",
       "min        0.000000e+00   1.000000e-02  \n",
       "25%        3.100000e+01   2.000000e+03  \n",
       "50%        6.243300e+02   5.500000e+03  \n",
       "75%        4.050000e+03   1.550000e+04  \n",
       "max        2.033899e+07   1.663614e+08  "
      ]
     },
     "execution_count": 3,
     "metadata": {},
     "output_type": "execute_result"
    }
   ],
   "source": [
    "# Your code here:\n",
    "kickstarter.head()\n",
    "kickstarter.shape\n",
    "kickstarter.describe()"
   ]
  },
  {
   "cell_type": "markdown",
   "metadata": {},
   "source": [
    "Import the `mode` function from `scipy.stats` and find the mode of the `country` and `currency` column."
   ]
  },
  {
   "cell_type": "code",
   "execution_count": 4,
   "metadata": {},
   "outputs": [
    {
     "data": {
      "text/plain": [
       "ModeResult(mode=array(['US'], dtype=object), count=array([292627]))"
      ]
     },
     "metadata": {},
     "output_type": "display_data"
    },
    {
     "data": {
      "text/plain": [
       "ModeResult(mode=array(['USD'], dtype=object), count=array([295365]))"
      ]
     },
     "execution_count": 4,
     "metadata": {},
     "output_type": "execute_result"
    }
   ],
   "source": [
    "# Your code here:\n",
    "#import multiprocessing as mp\n",
    "\n",
    "\n",
    "display(mode(kickstarter['country'])) #our country mode is US\n",
    "mode(kickstarter['currency']) #our currency mode is USD\n",
    "\n",
    "#We should apply paralellization to reduce the computing time\n",
    "#A few bad tries below\n",
    "\n",
    "\n",
    "#print(\"Number of processors: \", mp.cpu_count()) #8 processors limit\n",
    "#\n",
    "#\n",
    "#pool = multiprocessing.Pool(8)\n",
    "#\n",
    "##pool.terminate()\n",
    "##pool.join()\n",
    "#\n",
    "##from joblib import Parallel, delayed\n",
    "##\n",
    "##inputs = range(10) \n",
    "##def processInput(i):\n",
    "##    return i * i\n",
    "##\n",
    "##\n",
    "##results = Parallel(n_jobs=mp.cpu_count())(delayed(processInput)(i) for i in inputs)\n",
    "##print(results)\n",
    "##\n",
    "#\n",
    "#in_list = [[kickstarter['currency'], kickstarter['country']]]\n",
    "#\n",
    "#pool.map(mode, in_list)\n",
    "#\n",
    "#\n",
    "#pool.Process(display(mode(kickstarter['currency'])))\n",
    "#pool.Process(display(mode(kickstarter['country'])))\n",
    "#pool.terminate()\n",
    "#pool.join()\n"
   ]
  },
  {
   "cell_type": "markdown",
   "metadata": {},
   "source": [
    "The trimmed mean is a function that computes the mean of the data with observations removed. The most common way to compute a trimmed mean is by specifying a percentage and then removing elements from both ends. However, we can also specify a threshold on both ends. The goal of this function is to create a more robust method of computing the mean that is less influenced by outliers. SciPy contains a function called `tmean` for computing the trimmed mean. \n",
    "\n",
    "In the cell below, import the `tmean` function and then find the 75th percentile of the `goal` column. Compute the trimmed mean between 0 and the 75th percentile of the column. Read more about the `tmean` function [here](https://docs.scipy.org/doc/scipy/reference/generated/scipy.stats.tmean.html#scipy.stats.tmean)."
   ]
  },
  {
   "cell_type": "code",
   "execution_count": 5,
   "metadata": {},
   "outputs": [
    {
     "data": {
      "text/plain": [
       "4874.150287106898"
      ]
     },
     "execution_count": 5,
     "metadata": {},
     "output_type": "execute_result"
    }
   ],
   "source": [
    "# Your code here:\n",
    "from scipy.stats import tmean\n",
    "q3=kickstarter['goal'].quantile(0.75)\n",
    "tmean(kickstarter['goal'],(0,q3))\n"
   ]
  },
  {
   "cell_type": "markdown",
   "metadata": {},
   "source": [
    "#### SciPy contains various statistical tests. One of the tests is Fisher's exact test. This test is used for contingency tables. \n",
    "\n",
    "The test originates from the \"Lady Tasting Tea\" experiment. In 1935, Fisher published the results of the experiment in his book. The experiment was based on a claim by Muriel Bristol that she can taste whether tea or milk was first poured into the cup. Fisher devised this test to disprove her claim. The null hypothesis is that the treatments do not affect outcomes, while the alternative hypothesis is that the treatment does affect outcome. To read more about Fisher's exact test, see:\n",
    "\n",
    "* [Wikipedia's explanation](http://b.link/test61)\n",
    "* [A cool deep explanation](http://b.link/handbook47)\n",
    "* [An explanation with some important Fisher's considerations](http://b.link/significance76)\n",
    "\n",
    "Let's perform Fisher's exact test on our KickStarter data. We intend to test the hypothesis that the choice of currency has an impact on meeting the pledge goal. We'll start by creating two derived columns in our dataframe. The first will contain 1 if the amount of money in `usd_pledged_real` is greater than the amount of money in `usd_goal_real`. We can compute this by using the `np.where` function. If the amount in one column is greater than the other, enter a value of 1, otherwise enter a value of zero. Add this column to the dataframe and name it `goal_met`."
   ]
  },
  {
   "cell_type": "code",
   "execution_count": 6,
   "metadata": {},
   "outputs": [],
   "source": [
    "# Your code here:\n",
    "#Hypothesis\n",
    "#H0: has an impact on meeting the pledge goal\n",
    "#H1: has not an impact on meeting the pledge goal\n",
    "kickstarter['goal_met'] = np.where(kickstarter['usd_pledged_real']>kickstarter['usd_goal_real'],1,0)"
   ]
  },
  {
   "cell_type": "markdown",
   "metadata": {},
   "source": [
    "Next, create a column that checks whether the currency of the project is in US Dollars. Create a column called `usd` using the `np.where` function where if the currency is US Dollars, assign a value of 1 to the row and 0 otherwise."
   ]
  },
  {
   "cell_type": "code",
   "execution_count": 7,
   "metadata": {},
   "outputs": [],
   "source": [
    "# Your code here:\n",
    "kickstarter['usd']=np.where(kickstarter['currency']=='USD',1,0)\n"
   ]
  },
  {
   "cell_type": "code",
   "execution_count": 8,
   "metadata": {},
   "outputs": [
    {
     "data": {
      "text/html": [
       "<div>\n",
       "<style scoped>\n",
       "    .dataframe tbody tr th:only-of-type {\n",
       "        vertical-align: middle;\n",
       "    }\n",
       "\n",
       "    .dataframe tbody tr th {\n",
       "        vertical-align: top;\n",
       "    }\n",
       "\n",
       "    .dataframe thead th {\n",
       "        text-align: right;\n",
       "    }\n",
       "</style>\n",
       "<table border=\"1\" class=\"dataframe\">\n",
       "  <thead>\n",
       "    <tr style=\"text-align: right;\">\n",
       "      <th></th>\n",
       "      <th>ID</th>\n",
       "      <th>name</th>\n",
       "      <th>category</th>\n",
       "      <th>main_category</th>\n",
       "      <th>currency</th>\n",
       "      <th>deadline</th>\n",
       "      <th>goal</th>\n",
       "      <th>launched</th>\n",
       "      <th>pledged</th>\n",
       "      <th>state</th>\n",
       "      <th>backers</th>\n",
       "      <th>country</th>\n",
       "      <th>usd pledged</th>\n",
       "      <th>usd_pledged_real</th>\n",
       "      <th>usd_goal_real</th>\n",
       "      <th>goal_met</th>\n",
       "      <th>usd</th>\n",
       "    </tr>\n",
       "  </thead>\n",
       "  <tbody>\n",
       "    <tr>\n",
       "      <th>0</th>\n",
       "      <td>1000002330</td>\n",
       "      <td>The Songs of Adelaide &amp; Abullah</td>\n",
       "      <td>Poetry</td>\n",
       "      <td>Publishing</td>\n",
       "      <td>GBP</td>\n",
       "      <td>2015-10-09</td>\n",
       "      <td>1000.0</td>\n",
       "      <td>2015-08-11 12:12:28</td>\n",
       "      <td>0.0</td>\n",
       "      <td>failed</td>\n",
       "      <td>0</td>\n",
       "      <td>GB</td>\n",
       "      <td>0.0</td>\n",
       "      <td>0.0</td>\n",
       "      <td>1533.95</td>\n",
       "      <td>0</td>\n",
       "      <td>0</td>\n",
       "    </tr>\n",
       "    <tr>\n",
       "      <th>1</th>\n",
       "      <td>1000003930</td>\n",
       "      <td>Greeting From Earth: ZGAC Arts Capsule For ET</td>\n",
       "      <td>Narrative Film</td>\n",
       "      <td>Film &amp; Video</td>\n",
       "      <td>USD</td>\n",
       "      <td>2017-11-01</td>\n",
       "      <td>30000.0</td>\n",
       "      <td>2017-09-02 04:43:57</td>\n",
       "      <td>2421.0</td>\n",
       "      <td>failed</td>\n",
       "      <td>15</td>\n",
       "      <td>US</td>\n",
       "      <td>100.0</td>\n",
       "      <td>2421.0</td>\n",
       "      <td>30000.00</td>\n",
       "      <td>0</td>\n",
       "      <td>1</td>\n",
       "    </tr>\n",
       "    <tr>\n",
       "      <th>2</th>\n",
       "      <td>1000004038</td>\n",
       "      <td>Where is Hank?</td>\n",
       "      <td>Narrative Film</td>\n",
       "      <td>Film &amp; Video</td>\n",
       "      <td>USD</td>\n",
       "      <td>2013-02-26</td>\n",
       "      <td>45000.0</td>\n",
       "      <td>2013-01-12 00:20:50</td>\n",
       "      <td>220.0</td>\n",
       "      <td>failed</td>\n",
       "      <td>3</td>\n",
       "      <td>US</td>\n",
       "      <td>220.0</td>\n",
       "      <td>220.0</td>\n",
       "      <td>45000.00</td>\n",
       "      <td>0</td>\n",
       "      <td>1</td>\n",
       "    </tr>\n",
       "    <tr>\n",
       "      <th>3</th>\n",
       "      <td>1000007540</td>\n",
       "      <td>ToshiCapital Rekordz Needs Help to Complete Album</td>\n",
       "      <td>Music</td>\n",
       "      <td>Music</td>\n",
       "      <td>USD</td>\n",
       "      <td>2012-04-16</td>\n",
       "      <td>5000.0</td>\n",
       "      <td>2012-03-17 03:24:11</td>\n",
       "      <td>1.0</td>\n",
       "      <td>failed</td>\n",
       "      <td>1</td>\n",
       "      <td>US</td>\n",
       "      <td>1.0</td>\n",
       "      <td>1.0</td>\n",
       "      <td>5000.00</td>\n",
       "      <td>0</td>\n",
       "      <td>1</td>\n",
       "    </tr>\n",
       "    <tr>\n",
       "      <th>4</th>\n",
       "      <td>1000011046</td>\n",
       "      <td>Community Film Project: The Art of Neighborhoo...</td>\n",
       "      <td>Film &amp; Video</td>\n",
       "      <td>Film &amp; Video</td>\n",
       "      <td>USD</td>\n",
       "      <td>2015-08-29</td>\n",
       "      <td>19500.0</td>\n",
       "      <td>2015-07-04 08:35:03</td>\n",
       "      <td>1283.0</td>\n",
       "      <td>canceled</td>\n",
       "      <td>14</td>\n",
       "      <td>US</td>\n",
       "      <td>1283.0</td>\n",
       "      <td>1283.0</td>\n",
       "      <td>19500.00</td>\n",
       "      <td>0</td>\n",
       "      <td>1</td>\n",
       "    </tr>\n",
       "    <tr>\n",
       "      <th>...</th>\n",
       "      <td>...</td>\n",
       "      <td>...</td>\n",
       "      <td>...</td>\n",
       "      <td>...</td>\n",
       "      <td>...</td>\n",
       "      <td>...</td>\n",
       "      <td>...</td>\n",
       "      <td>...</td>\n",
       "      <td>...</td>\n",
       "      <td>...</td>\n",
       "      <td>...</td>\n",
       "      <td>...</td>\n",
       "      <td>...</td>\n",
       "      <td>...</td>\n",
       "      <td>...</td>\n",
       "      <td>...</td>\n",
       "      <td>...</td>\n",
       "    </tr>\n",
       "    <tr>\n",
       "      <th>378656</th>\n",
       "      <td>999976400</td>\n",
       "      <td>ChknTruk Nationwide Charity Drive 2014 (Canceled)</td>\n",
       "      <td>Documentary</td>\n",
       "      <td>Film &amp; Video</td>\n",
       "      <td>USD</td>\n",
       "      <td>2014-10-17</td>\n",
       "      <td>50000.0</td>\n",
       "      <td>2014-09-17 02:35:30</td>\n",
       "      <td>25.0</td>\n",
       "      <td>canceled</td>\n",
       "      <td>1</td>\n",
       "      <td>US</td>\n",
       "      <td>25.0</td>\n",
       "      <td>25.0</td>\n",
       "      <td>50000.00</td>\n",
       "      <td>0</td>\n",
       "      <td>1</td>\n",
       "    </tr>\n",
       "    <tr>\n",
       "      <th>378657</th>\n",
       "      <td>999977640</td>\n",
       "      <td>The Tribe</td>\n",
       "      <td>Narrative Film</td>\n",
       "      <td>Film &amp; Video</td>\n",
       "      <td>USD</td>\n",
       "      <td>2011-07-19</td>\n",
       "      <td>1500.0</td>\n",
       "      <td>2011-06-22 03:35:14</td>\n",
       "      <td>155.0</td>\n",
       "      <td>failed</td>\n",
       "      <td>5</td>\n",
       "      <td>US</td>\n",
       "      <td>155.0</td>\n",
       "      <td>155.0</td>\n",
       "      <td>1500.00</td>\n",
       "      <td>0</td>\n",
       "      <td>1</td>\n",
       "    </tr>\n",
       "    <tr>\n",
       "      <th>378658</th>\n",
       "      <td>999986353</td>\n",
       "      <td>Walls of Remedy- New lesbian Romantic Comedy f...</td>\n",
       "      <td>Narrative Film</td>\n",
       "      <td>Film &amp; Video</td>\n",
       "      <td>USD</td>\n",
       "      <td>2010-08-16</td>\n",
       "      <td>15000.0</td>\n",
       "      <td>2010-07-01 19:40:30</td>\n",
       "      <td>20.0</td>\n",
       "      <td>failed</td>\n",
       "      <td>1</td>\n",
       "      <td>US</td>\n",
       "      <td>20.0</td>\n",
       "      <td>20.0</td>\n",
       "      <td>15000.00</td>\n",
       "      <td>0</td>\n",
       "      <td>1</td>\n",
       "    </tr>\n",
       "    <tr>\n",
       "      <th>378659</th>\n",
       "      <td>999987933</td>\n",
       "      <td>BioDefense Education Kit</td>\n",
       "      <td>Technology</td>\n",
       "      <td>Technology</td>\n",
       "      <td>USD</td>\n",
       "      <td>2016-02-13</td>\n",
       "      <td>15000.0</td>\n",
       "      <td>2016-01-13 18:13:53</td>\n",
       "      <td>200.0</td>\n",
       "      <td>failed</td>\n",
       "      <td>6</td>\n",
       "      <td>US</td>\n",
       "      <td>200.0</td>\n",
       "      <td>200.0</td>\n",
       "      <td>15000.00</td>\n",
       "      <td>0</td>\n",
       "      <td>1</td>\n",
       "    </tr>\n",
       "    <tr>\n",
       "      <th>378660</th>\n",
       "      <td>999988282</td>\n",
       "      <td>Nou Renmen Ayiti!  We Love Haiti!</td>\n",
       "      <td>Performance Art</td>\n",
       "      <td>Art</td>\n",
       "      <td>USD</td>\n",
       "      <td>2011-08-16</td>\n",
       "      <td>2000.0</td>\n",
       "      <td>2011-07-19 09:07:47</td>\n",
       "      <td>524.0</td>\n",
       "      <td>failed</td>\n",
       "      <td>17</td>\n",
       "      <td>US</td>\n",
       "      <td>524.0</td>\n",
       "      <td>524.0</td>\n",
       "      <td>2000.00</td>\n",
       "      <td>0</td>\n",
       "      <td>1</td>\n",
       "    </tr>\n",
       "  </tbody>\n",
       "</table>\n",
       "<p>378661 rows × 17 columns</p>\n",
       "</div>"
      ],
      "text/plain": [
       "                ID                                               name  \\\n",
       "0       1000002330                    The Songs of Adelaide & Abullah   \n",
       "1       1000003930      Greeting From Earth: ZGAC Arts Capsule For ET   \n",
       "2       1000004038                                     Where is Hank?   \n",
       "3       1000007540  ToshiCapital Rekordz Needs Help to Complete Album   \n",
       "4       1000011046  Community Film Project: The Art of Neighborhoo...   \n",
       "...            ...                                                ...   \n",
       "378656   999976400  ChknTruk Nationwide Charity Drive 2014 (Canceled)   \n",
       "378657   999977640                                          The Tribe   \n",
       "378658   999986353  Walls of Remedy- New lesbian Romantic Comedy f...   \n",
       "378659   999987933                           BioDefense Education Kit   \n",
       "378660   999988282                  Nou Renmen Ayiti!  We Love Haiti!   \n",
       "\n",
       "               category main_category currency    deadline     goal  \\\n",
       "0                Poetry    Publishing      GBP  2015-10-09   1000.0   \n",
       "1        Narrative Film  Film & Video      USD  2017-11-01  30000.0   \n",
       "2        Narrative Film  Film & Video      USD  2013-02-26  45000.0   \n",
       "3                 Music         Music      USD  2012-04-16   5000.0   \n",
       "4          Film & Video  Film & Video      USD  2015-08-29  19500.0   \n",
       "...                 ...           ...      ...         ...      ...   \n",
       "378656      Documentary  Film & Video      USD  2014-10-17  50000.0   \n",
       "378657   Narrative Film  Film & Video      USD  2011-07-19   1500.0   \n",
       "378658   Narrative Film  Film & Video      USD  2010-08-16  15000.0   \n",
       "378659       Technology    Technology      USD  2016-02-13  15000.0   \n",
       "378660  Performance Art           Art      USD  2011-08-16   2000.0   \n",
       "\n",
       "                   launched  pledged     state  backers country  usd pledged  \\\n",
       "0       2015-08-11 12:12:28      0.0    failed        0      GB          0.0   \n",
       "1       2017-09-02 04:43:57   2421.0    failed       15      US        100.0   \n",
       "2       2013-01-12 00:20:50    220.0    failed        3      US        220.0   \n",
       "3       2012-03-17 03:24:11      1.0    failed        1      US          1.0   \n",
       "4       2015-07-04 08:35:03   1283.0  canceled       14      US       1283.0   \n",
       "...                     ...      ...       ...      ...     ...          ...   \n",
       "378656  2014-09-17 02:35:30     25.0  canceled        1      US         25.0   \n",
       "378657  2011-06-22 03:35:14    155.0    failed        5      US        155.0   \n",
       "378658  2010-07-01 19:40:30     20.0    failed        1      US         20.0   \n",
       "378659  2016-01-13 18:13:53    200.0    failed        6      US        200.0   \n",
       "378660  2011-07-19 09:07:47    524.0    failed       17      US        524.0   \n",
       "\n",
       "        usd_pledged_real  usd_goal_real  goal_met  usd  \n",
       "0                    0.0        1533.95         0    0  \n",
       "1                 2421.0       30000.00         0    1  \n",
       "2                  220.0       45000.00         0    1  \n",
       "3                    1.0        5000.00         0    1  \n",
       "4                 1283.0       19500.00         0    1  \n",
       "...                  ...            ...       ...  ...  \n",
       "378656              25.0       50000.00         0    1  \n",
       "378657             155.0        1500.00         0    1  \n",
       "378658              20.0       15000.00         0    1  \n",
       "378659             200.0       15000.00         0    1  \n",
       "378660             524.0        2000.00         0    1  \n",
       "\n",
       "[378661 rows x 17 columns]"
      ]
     },
     "execution_count": 8,
     "metadata": {},
     "output_type": "execute_result"
    }
   ],
   "source": [
    "kickstarter"
   ]
  },
  {
   "cell_type": "markdown",
   "metadata": {},
   "source": [
    "Now create a contingency table using the `pd.crosstab` function in the cell below to compare the `goal_met` and `usd` columns."
   ]
  },
  {
   "cell_type": "markdown",
   "metadata": {},
   "source": [
    "Import the `fisher_exact` function from `scipy.stats` and conduct the hypothesis test on the contingency table that you have generated above. You can read more about the `fisher_exact` function [here](https://docs.scipy.org/doc/scipy/reference/generated/scipy.stats.fisher_exact.html#scipy.stats.fisher_exact). The output of the function should be the odds ratio and the p-value. The p-value will provide you with the outcome of the test."
   ]
  },
  {
   "cell_type": "code",
   "execution_count": 19,
   "metadata": {},
   "outputs": [
    {
     "data": {
      "text/html": [
       "<div>\n",
       "<style scoped>\n",
       "    .dataframe tbody tr th:only-of-type {\n",
       "        vertical-align: middle;\n",
       "    }\n",
       "\n",
       "    .dataframe tbody tr th {\n",
       "        vertical-align: top;\n",
       "    }\n",
       "\n",
       "    .dataframe thead th {\n",
       "        text-align: right;\n",
       "    }\n",
       "</style>\n",
       "<table border=\"1\" class=\"dataframe\">\n",
       "  <thead>\n",
       "    <tr style=\"text-align: right;\">\n",
       "      <th>usd</th>\n",
       "      <th>0</th>\n",
       "      <th>1</th>\n",
       "    </tr>\n",
       "    <tr>\n",
       "      <th>goal_met</th>\n",
       "      <th></th>\n",
       "      <th></th>\n",
       "    </tr>\n",
       "  </thead>\n",
       "  <tbody>\n",
       "    <tr>\n",
       "      <th>0</th>\n",
       "      <td>45</td>\n",
       "      <td>126</td>\n",
       "    </tr>\n",
       "    <tr>\n",
       "      <th>1</th>\n",
       "      <td>664</td>\n",
       "      <td>3128</td>\n",
       "    </tr>\n",
       "  </tbody>\n",
       "</table>\n",
       "</div>"
      ],
      "text/plain": [
       "usd         0     1\n",
       "goal_met           \n",
       "0          45   126\n",
       "1         664  3128"
      ]
     },
     "execution_count": 19,
     "metadata": {},
     "output_type": "execute_result"
    }
   ],
   "source": [
    "# Your code here:\n",
    "table=pd.crosstab(kickstarter['goal_met'], kickstarter['usd'])\n",
    "table"
   ]
  },
  {
   "cell_type": "code",
   "execution_count": 20,
   "metadata": {},
   "outputs": [
    {
     "data": {
      "text/plain": [
       "(1.6824440619621341, 0.005593005326200839)"
      ]
     },
     "execution_count": 20,
     "metadata": {},
     "output_type": "execute_result"
    }
   ],
   "source": [
    "from scipy.stats import fisher_exact\n",
    "fisher_exact(table)\n"
   ]
  },
  {
   "cell_type": "markdown",
   "metadata": {},
   "source": [
    "# Challenge 2 - The `interpolate` submodule\n",
    "\n",
    "This submodule allows us to interpolate between two points and create a continuous distribution based on the observed data.\n",
    "\n",
    "In the cell below, import the `interp1d` function from `scipy.interpolate` and first take a sample of 10 rows from `kickstarter`. \n",
    "\n",
    "**Make sure there are not duplicated values in `backers`**"
   ]
  },
  {
   "cell_type": "code",
   "execution_count": 11,
   "metadata": {},
   "outputs": [
    {
     "data": {
      "text/html": [
       "<div>\n",
       "<style scoped>\n",
       "    .dataframe tbody tr th:only-of-type {\n",
       "        vertical-align: middle;\n",
       "    }\n",
       "\n",
       "    .dataframe tbody tr th {\n",
       "        vertical-align: top;\n",
       "    }\n",
       "\n",
       "    .dataframe thead th {\n",
       "        text-align: right;\n",
       "    }\n",
       "</style>\n",
       "<table border=\"1\" class=\"dataframe\">\n",
       "  <thead>\n",
       "    <tr style=\"text-align: right;\">\n",
       "      <th></th>\n",
       "      <th>ID</th>\n",
       "      <th>name</th>\n",
       "      <th>category</th>\n",
       "      <th>main_category</th>\n",
       "      <th>currency</th>\n",
       "      <th>deadline</th>\n",
       "      <th>goal</th>\n",
       "      <th>launched</th>\n",
       "      <th>pledged</th>\n",
       "      <th>state</th>\n",
       "      <th>backers</th>\n",
       "      <th>country</th>\n",
       "      <th>usd pledged</th>\n",
       "      <th>usd_pledged_real</th>\n",
       "      <th>usd_goal_real</th>\n",
       "      <th>goal_met</th>\n",
       "      <th>usd</th>\n",
       "    </tr>\n",
       "  </thead>\n",
       "  <tbody>\n",
       "    <tr>\n",
       "      <th>358072</th>\n",
       "      <td>894089715</td>\n",
       "      <td>WINGBRUSH® - The revolution of interdental cle...</td>\n",
       "      <td>Product Design</td>\n",
       "      <td>Design</td>\n",
       "      <td>EUR</td>\n",
       "      <td>2017-01-05</td>\n",
       "      <td>5000.0</td>\n",
       "      <td>2016-12-01 14:03:16</td>\n",
       "      <td>331475.00</td>\n",
       "      <td>successful</td>\n",
       "      <td>12412</td>\n",
       "      <td>DE</td>\n",
       "      <td>28482.11</td>\n",
       "      <td>350997.48</td>\n",
       "      <td>5294.48</td>\n",
       "      <td>1</td>\n",
       "      <td>0</td>\n",
       "    </tr>\n",
       "    <tr>\n",
       "      <th>153400</th>\n",
       "      <td>177972497</td>\n",
       "      <td>NEBBY: Rick Sebak's Tales of Greater Pittsburgh</td>\n",
       "      <td>Television</td>\n",
       "      <td>Film &amp; Video</td>\n",
       "      <td>USD</td>\n",
       "      <td>2017-04-26</td>\n",
       "      <td>113000.0</td>\n",
       "      <td>2017-03-27 06:02:43</td>\n",
       "      <td>142777.86</td>\n",
       "      <td>successful</td>\n",
       "      <td>1411</td>\n",
       "      <td>US</td>\n",
       "      <td>54926.00</td>\n",
       "      <td>142777.86</td>\n",
       "      <td>113000.00</td>\n",
       "      <td>1</td>\n",
       "      <td>1</td>\n",
       "    </tr>\n",
       "    <tr>\n",
       "      <th>55548</th>\n",
       "      <td>1282644930</td>\n",
       "      <td>ForeverSpin™ 2.0- Spinning Top, Precise, Durab...</td>\n",
       "      <td>Games</td>\n",
       "      <td>Games</td>\n",
       "      <td>CAD</td>\n",
       "      <td>2014-12-05</td>\n",
       "      <td>5000.0</td>\n",
       "      <td>2014-10-30 00:11:36</td>\n",
       "      <td>402640.25</td>\n",
       "      <td>successful</td>\n",
       "      <td>3831</td>\n",
       "      <td>CA</td>\n",
       "      <td>358123.05</td>\n",
       "      <td>353379.19</td>\n",
       "      <td>4388.27</td>\n",
       "      <td>1</td>\n",
       "      <td>0</td>\n",
       "    </tr>\n",
       "    <tr>\n",
       "      <th>229863</th>\n",
       "      <td>238615906</td>\n",
       "      <td>The Family Arcana: A Story-in-Cards by Jededia...</td>\n",
       "      <td>Fiction</td>\n",
       "      <td>Publishing</td>\n",
       "      <td>USD</td>\n",
       "      <td>2015-03-19</td>\n",
       "      <td>2800.0</td>\n",
       "      <td>2015-02-17 18:43:04</td>\n",
       "      <td>32050.33</td>\n",
       "      <td>successful</td>\n",
       "      <td>1479</td>\n",
       "      <td>US</td>\n",
       "      <td>32050.33</td>\n",
       "      <td>32050.33</td>\n",
       "      <td>2800.00</td>\n",
       "      <td>1</td>\n",
       "      <td>1</td>\n",
       "    </tr>\n",
       "    <tr>\n",
       "      <th>273813</th>\n",
       "      <td>463121688</td>\n",
       "      <td>Bunch O Balloons: 100 Water Balloons in Less T...</td>\n",
       "      <td>Product Design</td>\n",
       "      <td>Design</td>\n",
       "      <td>USD</td>\n",
       "      <td>2014-08-21</td>\n",
       "      <td>10000.0</td>\n",
       "      <td>2014-07-22 16:26:00</td>\n",
       "      <td>929160.01</td>\n",
       "      <td>successful</td>\n",
       "      <td>21455</td>\n",
       "      <td>US</td>\n",
       "      <td>929160.01</td>\n",
       "      <td>929160.01</td>\n",
       "      <td>10000.00</td>\n",
       "      <td>1</td>\n",
       "      <td>1</td>\n",
       "    </tr>\n",
       "    <tr>\n",
       "      <th>58972</th>\n",
       "      <td>1299968108</td>\n",
       "      <td>PolySmooth &amp; Polysher: 3D Prints Without Layers</td>\n",
       "      <td>3D Printing</td>\n",
       "      <td>Technology</td>\n",
       "      <td>USD</td>\n",
       "      <td>2016-05-25</td>\n",
       "      <td>100000.0</td>\n",
       "      <td>2016-04-25 17:59:57</td>\n",
       "      <td>433860.00</td>\n",
       "      <td>successful</td>\n",
       "      <td>1343</td>\n",
       "      <td>US</td>\n",
       "      <td>433860.00</td>\n",
       "      <td>433860.00</td>\n",
       "      <td>100000.00</td>\n",
       "      <td>1</td>\n",
       "      <td>1</td>\n",
       "    </tr>\n",
       "    <tr>\n",
       "      <th>324457</th>\n",
       "      <td>72259115</td>\n",
       "      <td>Storyclock Notebook: A Notebook Designed for S...</td>\n",
       "      <td>Design</td>\n",
       "      <td>Design</td>\n",
       "      <td>USD</td>\n",
       "      <td>2017-06-08</td>\n",
       "      <td>12500.0</td>\n",
       "      <td>2017-05-09 02:09:39</td>\n",
       "      <td>122310.00</td>\n",
       "      <td>successful</td>\n",
       "      <td>5354</td>\n",
       "      <td>US</td>\n",
       "      <td>18170.00</td>\n",
       "      <td>122310.00</td>\n",
       "      <td>12500.00</td>\n",
       "      <td>1</td>\n",
       "      <td>1</td>\n",
       "    </tr>\n",
       "    <tr>\n",
       "      <th>83640</th>\n",
       "      <td>1425295954</td>\n",
       "      <td>Crusaders: Thy Will Be Done - Deluxified™</td>\n",
       "      <td>Tabletop Games</td>\n",
       "      <td>Games</td>\n",
       "      <td>USD</td>\n",
       "      <td>2017-08-05</td>\n",
       "      <td>40000.0</td>\n",
       "      <td>2017-07-11 14:22:13</td>\n",
       "      <td>330691.00</td>\n",
       "      <td>successful</td>\n",
       "      <td>4162</td>\n",
       "      <td>US</td>\n",
       "      <td>38124.00</td>\n",
       "      <td>330691.00</td>\n",
       "      <td>40000.00</td>\n",
       "      <td>1</td>\n",
       "      <td>1</td>\n",
       "    </tr>\n",
       "    <tr>\n",
       "      <th>1254</th>\n",
       "      <td>100635918</td>\n",
       "      <td>World's first wirelessly charged earbuds</td>\n",
       "      <td>Hardware</td>\n",
       "      <td>Technology</td>\n",
       "      <td>EUR</td>\n",
       "      <td>2016-05-26</td>\n",
       "      <td>50000.0</td>\n",
       "      <td>2016-04-26 09:00:26</td>\n",
       "      <td>172228.00</td>\n",
       "      <td>successful</td>\n",
       "      <td>1068</td>\n",
       "      <td>DE</td>\n",
       "      <td>193622.51</td>\n",
       "      <td>192343.26</td>\n",
       "      <td>55839.72</td>\n",
       "      <td>1</td>\n",
       "      <td>0</td>\n",
       "    </tr>\n",
       "    <tr>\n",
       "      <th>11367</th>\n",
       "      <td>1056981666</td>\n",
       "      <td>Next Gen N64 Nintendo 64 Controller</td>\n",
       "      <td>Gaming Hardware</td>\n",
       "      <td>Games</td>\n",
       "      <td>USD</td>\n",
       "      <td>2017-09-08</td>\n",
       "      <td>13000.0</td>\n",
       "      <td>2017-08-09 18:55:01</td>\n",
       "      <td>166347.28</td>\n",
       "      <td>successful</td>\n",
       "      <td>5555</td>\n",
       "      <td>US</td>\n",
       "      <td>111287.78</td>\n",
       "      <td>166347.28</td>\n",
       "      <td>13000.00</td>\n",
       "      <td>1</td>\n",
       "      <td>1</td>\n",
       "    </tr>\n",
       "  </tbody>\n",
       "</table>\n",
       "</div>"
      ],
      "text/plain": [
       "                ID                                               name  \\\n",
       "358072   894089715  WINGBRUSH® - The revolution of interdental cle...   \n",
       "153400   177972497    NEBBY: Rick Sebak's Tales of Greater Pittsburgh   \n",
       "55548   1282644930  ForeverSpin™ 2.0- Spinning Top, Precise, Durab...   \n",
       "229863   238615906  The Family Arcana: A Story-in-Cards by Jededia...   \n",
       "273813   463121688  Bunch O Balloons: 100 Water Balloons in Less T...   \n",
       "58972   1299968108    PolySmooth & Polysher: 3D Prints Without Layers   \n",
       "324457    72259115  Storyclock Notebook: A Notebook Designed for S...   \n",
       "83640   1425295954          Crusaders: Thy Will Be Done - Deluxified™   \n",
       "1254     100635918           World's first wirelessly charged earbuds   \n",
       "11367   1056981666                Next Gen N64 Nintendo 64 Controller   \n",
       "\n",
       "               category main_category currency    deadline      goal  \\\n",
       "358072   Product Design        Design      EUR  2017-01-05    5000.0   \n",
       "153400       Television  Film & Video      USD  2017-04-26  113000.0   \n",
       "55548             Games         Games      CAD  2014-12-05    5000.0   \n",
       "229863          Fiction    Publishing      USD  2015-03-19    2800.0   \n",
       "273813   Product Design        Design      USD  2014-08-21   10000.0   \n",
       "58972       3D Printing    Technology      USD  2016-05-25  100000.0   \n",
       "324457           Design        Design      USD  2017-06-08   12500.0   \n",
       "83640    Tabletop Games         Games      USD  2017-08-05   40000.0   \n",
       "1254           Hardware    Technology      EUR  2016-05-26   50000.0   \n",
       "11367   Gaming Hardware         Games      USD  2017-09-08   13000.0   \n",
       "\n",
       "                   launched    pledged       state  backers country  \\\n",
       "358072  2016-12-01 14:03:16  331475.00  successful    12412      DE   \n",
       "153400  2017-03-27 06:02:43  142777.86  successful     1411      US   \n",
       "55548   2014-10-30 00:11:36  402640.25  successful     3831      CA   \n",
       "229863  2015-02-17 18:43:04   32050.33  successful     1479      US   \n",
       "273813  2014-07-22 16:26:00  929160.01  successful    21455      US   \n",
       "58972   2016-04-25 17:59:57  433860.00  successful     1343      US   \n",
       "324457  2017-05-09 02:09:39  122310.00  successful     5354      US   \n",
       "83640   2017-07-11 14:22:13  330691.00  successful     4162      US   \n",
       "1254    2016-04-26 09:00:26  172228.00  successful     1068      DE   \n",
       "11367   2017-08-09 18:55:01  166347.28  successful     5555      US   \n",
       "\n",
       "        usd pledged  usd_pledged_real  usd_goal_real  goal_met  usd  \n",
       "358072     28482.11         350997.48        5294.48         1    0  \n",
       "153400     54926.00         142777.86      113000.00         1    1  \n",
       "55548     358123.05         353379.19        4388.27         1    0  \n",
       "229863     32050.33          32050.33        2800.00         1    1  \n",
       "273813    929160.01         929160.01       10000.00         1    1  \n",
       "58972     433860.00         433860.00      100000.00         1    1  \n",
       "324457     18170.00         122310.00       12500.00         1    1  \n",
       "83640      38124.00         330691.00       40000.00         1    1  \n",
       "1254      193622.51         192343.26       55839.72         1    0  \n",
       "11367     111287.78         166347.28       13000.00         1    1  "
      ]
     },
     "execution_count": 11,
     "metadata": {},
     "output_type": "execute_result"
    }
   ],
   "source": [
    "# Your code here:\n",
    "from scipy.interpolate import interp1d\n",
    "kickstarter=kickstarter.drop_duplicates(subset=['backers'])\n",
    "kickstarter_sample = kickstarter.sample(10)\n",
    "kickstarter_sample\n"
   ]
  },
  {
   "cell_type": "markdown",
   "metadata": {},
   "source": [
    "Next, create a linear interpolation of `usd_pledged_real` as a function of the `backers`. Create a function `f` that generates a linear interpolation of `usd_pledged_real` as predicted by the amount of `backers`."
   ]
  },
  {
   "cell_type": "code",
   "execution_count": 53,
   "metadata": {},
   "outputs": [],
   "source": [
    "# Your code here:\n",
    "f = interp1d(kickstarter_sample['backers'],kickstarter_sample['usd_pledged_real'])\n",
    "f"
   ]
  },
  {
   "cell_type": "code",
   "execution_count": null,
   "metadata": {},
   "outputs": [],
   "source": []
  },
  {
   "cell_type": "markdown",
   "metadata": {},
   "source": [
    "Now create a new variable called `x_new`. This variable will contain all integers between the minimum number of backers in our sample and the maximum number of backers. The goal here is to take the dataset that contains few obeservations due to sampling and fill all observations with a value using the interpolation function. \n",
    "\n",
    "Hint: one option is the `np.arange` function."
   ]
  },
  {
   "cell_type": "code",
   "execution_count": 49,
   "metadata": {},
   "outputs": [],
   "source": [
    "x_new = np.arange(kickstarter_sample['backers'].min(), kickstarter_sample['backers'].max(), 1)"
   ]
  },
  {
   "cell_type": "code",
   "execution_count": null,
   "metadata": {
    "scrolled": true
   },
   "outputs": [],
   "source": []
  },
  {
   "cell_type": "code",
   "execution_count": 25,
   "metadata": {},
   "outputs": [
    {
     "data": {
      "text/plain": [
       "1068"
      ]
     },
     "execution_count": 25,
     "metadata": {},
     "output_type": "execute_result"
    }
   ],
   "source": []
  },
  {
   "cell_type": "markdown",
   "metadata": {},
   "source": [
    "Plot function `f` for all values of `x_new`. Run the code below."
   ]
  },
  {
   "cell_type": "code",
   "execution_count": 50,
   "metadata": {},
   "outputs": [
    {
     "data": {
      "text/plain": [
       "[<matplotlib.lines.Line2D at 0x111425b0>]"
      ]
     },
     "execution_count": 50,
     "metadata": {},
     "output_type": "execute_result"
    },
    {
     "data": {
      "image/png": "[encoded data removed]",
      "text/plain": [
       "<Figure size 432x288 with 1 Axes>"
      ]
     },
     "metadata": {
      "needs_background": "light"
     },
     "output_type": "display_data"
    }
   ],
   "source": [
    "# Run this code:\n",
    "\n",
    "%matplotlib inline\n",
    "import matplotlib.pyplot as plt\n",
    "\n",
    "plt.plot(x_new, f(x_new))"
   ]
  },
  {
   "cell_type": "markdown",
   "metadata": {},
   "source": [
    "Next create a function that will generate a cubic interpolation function. Name the function `g`."
   ]
  },
  {
   "cell_type": "code",
   "execution_count": 54,
   "metadata": {},
   "outputs": [],
   "source": [
    "# Your code here:\n",
    "g = interp1d(kickstarter_sample['backers'],kickstarter_sample['usd_pledged_real'], kind='cubic')\n"
   ]
  },
  {
   "cell_type": "code",
   "execution_count": 55,
   "metadata": {},
   "outputs": [
    {
     "data": {
      "text/plain": [
       "[<matplotlib.lines.Line2D at 0x12520bd0>]"
      ]
     },
     "execution_count": 55,
     "metadata": {},
     "output_type": "execute_result"
    },
    {
     "data": {
      "image/png": "[encoded data removed]",
      "text/plain": [
       "<Figure size 432x288 with 1 Axes>"
      ]
     },
     "metadata": {
      "needs_background": "light"
     },
     "output_type": "display_data"
    }
   ],
   "source": [
    "# Run this code:\n",
    "\n",
    "plt.plot(x_new, g(x_new))"
   ]
  },
  {
   "cell_type": "markdown",
   "metadata": {},
   "source": [
    "# Bonus Challenge - The Binomial Distribution\n",
    "\n",
    "The binomial distribution allows us to calculate the probability of k successes in n trials for a random variable with two possible outcomes (which we typically label success and failure).  \n",
    "\n",
    "The probability of success is typically denoted by p and the probability of failure is denoted by 1-p.\n",
    "\n",
    "The `scipy.stats` submodule contains a `binom` function for computing the probabilites of a random variable with the binomial distribution. You may read more about the binomial distribution [here](http://b.link/binomial55)\n",
    "\n",
    "* In the cell below, compute the probability that a dice lands on 5 exactly 3 times in 8 tries.\n"
   ]
  },
  {
   "cell_type": "code",
   "execution_count": null,
   "metadata": {},
   "outputs": [],
   "source": [
    "# Your code here:\n",
    "\n"
   ]
  },
  {
   "cell_type": "markdown",
   "metadata": {},
   "source": [
    "* Do a simulation for the last event: do a function that simulate 8 tries and return a 1 if the result is 5 exactly 3 times and 0 if not. Now launch your simulation."
   ]
  },
  {
   "cell_type": "code",
   "execution_count": null,
   "metadata": {},
   "outputs": [],
   "source": [
    "# Your code here:\n"
   ]
  },
  {
   "cell_type": "markdown",
   "metadata": {},
   "source": [
    "* Launch 10 simulations and represent the result in a bar plot. Now launch 1000 simulations and represent it. What do you see?"
   ]
  },
  {
   "cell_type": "code",
   "execution_count": null,
   "metadata": {},
   "outputs": [],
   "source": [
    "# Your code here:\n"
   ]
  }
 ],
 "metadata": {
  "kernelspec": {
   "display_name": "Python 3",
   "language": "python",
   "name": "python3"
  },
  "language_info": {
   "codemirror_mode": {
    "name": "ipython",
    "version": 3
   },
   "file_extension": ".py",
   "mimetype": "text/x-python",
   "name": "python",
   "nbconvert_exporter": "python",
   "pygments_lexer": "ipython3",
   "version": "3.7.4"
  }
 },
 "nbformat": 4,
 "nbformat_minor": 2
}
